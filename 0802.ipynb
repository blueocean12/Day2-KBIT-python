{
 "cells": [
  {
   "cell_type": "code",
   "execution_count": 2,
   "id": "92f3e0b9",
   "metadata": {},
   "outputs": [],
   "source": [
    "arr1 = [\n",
    "[1,3,5],#0번행\n",
    "[3,5,7],#1번행\n",
    "[5,7,9],#2번행\n",
    "    \n",
    "]\n",
    "#세로[1,3,5]추출은 불가 -> numpy라는 것을 사용해야함"
   ]
  },
  {
   "cell_type": "code",
   "execution_count": 5,
   "id": "2b3e1b80",
   "metadata": {},
   "outputs": [
    {
     "data": {
      "text/plain": [
       "([1, 3, 5], [3, 5, 7], [5, 7, 9])"
      ]
     },
     "execution_count": 5,
     "metadata": {},
     "output_type": "execute_result"
    }
   ],
   "source": [
    "arr1[0], arr1[1], arr1[2]"
   ]
  },
  {
   "cell_type": "code",
   "execution_count": 8,
   "id": "c08604f1",
   "metadata": {},
   "outputs": [
    {
     "data": {
      "text/plain": [
       "[[99, 3, 5], [3, 5, 7], [5, 7, 9]]"
      ]
     },
     "execution_count": 8,
     "metadata": {},
     "output_type": "execute_result"
    }
   ],
   "source": [
    "arr1[0][0] =99\n",
    "arr1# 0번째 행의 0번째 항목"
   ]
  },
  {
   "cell_type": "code",
   "execution_count": 11,
   "id": "9b69012f",
   "metadata": {},
   "outputs": [
    {
     "ename": "SyntaxError",
     "evalue": "invalid syntax (744195349.py, line 4)",
     "output_type": "error",
     "traceback": [
      "\u001b[1;36m  Input \u001b[1;32mIn [11]\u001b[1;36m\u001b[0m\n\u001b[1;33m    random.random? #0에서 0.999..까지 랜덤숫자를 표시한다.\u001b[0m\n\u001b[1;37m                 ^\u001b[0m\n\u001b[1;31mSyntaxError\u001b[0m\u001b[1;31m:\u001b[0m invalid syntax\n"
     ]
    }
   ],
   "source": [
    "#로또번호 생성\n",
    "import random # 랜덤이라는 함수에 난수를 입력한다\n",
    "random.seed?\n",
    "random.random? #0에서 0.999..까지 랜덤숫자를 표시한다.\n",
    "\n"
   ]
  },
  {
   "cell_type": "code",
   "execution_count": 16,
   "id": "b0e59b23",
   "metadata": {},
   "outputs": [
    {
     "data": {
      "text/plain": [
       "[28, 29, 22, 8, 39, 35]"
      ]
     },
     "execution_count": 16,
     "metadata": {},
     "output_type": "execute_result"
    }
   ],
   "source": [
    "#랜덤한 숫자 6가지 (중복 있음)\n",
    "import random\n",
    "lotto = [] #빈 리스트\n",
    "lotto = [\n",
    "    random.randint(1,45),\n",
    "    random.randint(1,45),\n",
    "    random.randint(1,45),\n",
    "    random.randint(1,45),\n",
    "    random.randint(1,45),\n",
    "    random.randint(1,45),\n",
    "]\n",
    "lotto # 중복되는 경우가 생김"
   ]
  },
  {
   "cell_type": "code",
   "execution_count": 24,
   "id": "c1ea2df9",
   "metadata": {},
   "outputs": [
    {
     "data": {
      "text/plain": [
       "[36, 38, 31, 1, 15, 11]"
      ]
     },
     "execution_count": 24,
     "metadata": {},
     "output_type": "execute_result"
    }
   ],
   "source": [
    "import random\n",
    "lotto = [] #빈 리스트\n",
    "lotto.append(random.randint(1,45)) #리스트의 맨 마지막에 r 값을 추가\n",
    "r = random.randint(1,45)\n",
    "lotto.append(r) #리스트의 맨 마지막에 r 값을 추가\n",
    "r = random.randint(1,45)\n",
    "lotto.append(r) #리스트의 맨 마지막에 r 값을 추가\n",
    "r = random.randint(1,45)\n",
    "lotto.append(r) #리스트의 맨 마지막에 r 값을 추가\n",
    "r = random.randint(1,45)\n",
    "lotto.append(r) #리스트의 맨 마지막에 r 값을 추가\n",
    "r = random.randint(1,45)\n",
    "lotto.append(r) #리스트의 맨 마지막에 r 값을 추가\n",
    "lotto"
   ]
  },
  {
   "cell_type": "code",
   "execution_count": 20,
   "id": "85ca550c",
   "metadata": {},
   "outputs": [
    {
     "data": {
      "text/plain": [
       "[4, 1, 2, 3]"
      ]
     },
     "execution_count": 20,
     "metadata": {},
     "output_type": "execute_result"
    }
   ],
   "source": [
    "#insert(n,v): 위치(n)에 값(v)를 삽입\n",
    "arr2 = [1,2,3]\n",
    "arr2.insert(0,4) #0번째 자리(1)에 4를 넣겠다 // 길이 보다 긴 값을 n자리에 넣으면 제일 오른쪽에 값이 생김\n",
    "arr2"
   ]
  },
  {
   "cell_type": "code",
   "execution_count": 27,
   "id": "e377e611",
   "metadata": {},
   "outputs": [
    {
     "data": {
      "text/plain": [
       "[1, 11, 15, 31, 36, 38]"
      ]
     },
     "execution_count": 27,
     "metadata": {},
     "output_type": "execute_result"
    }
   ],
   "source": [
    "#sort() : 내부 정렬 > 정렬된 결과를 표시 \n",
    "lotto.sort(reverse=True)\n",
    "lotto.reverse()\n",
    "lotto"
   ]
  },
  {
   "cell_type": "code",
   "execution_count": 32,
   "id": "d9c8edda",
   "metadata": {},
   "outputs": [
    {
     "data": {
      "text/plain": [
       "15"
      ]
     },
     "execution_count": 32,
     "metadata": {},
     "output_type": "execute_result"
    }
   ],
   "source": [
    "#삭제1\n",
    "#pop: 마지막 요소 반환 및 삭제 (=순번 삭제)\n",
    "#함수\n",
    "lotto.pop(2) #괄호에 숫자를 넣으면 그 위치에 있는 요소를 삭제시킴"
   ]
  },
  {
   "cell_type": "code",
   "execution_count": 37,
   "id": "ca9a8034",
   "metadata": {},
   "outputs": [
    {
     "data": {
      "text/plain": [
       "[1, 31]"
      ]
     },
     "execution_count": 37,
     "metadata": {},
     "output_type": "execute_result"
    }
   ],
   "source": [
    "lotto"
   ]
  },
  {
   "cell_type": "code",
   "execution_count": 39,
   "id": "3c868133",
   "metadata": {},
   "outputs": [],
   "source": [
    "#삭제2\n",
    "#remove: 삭제할 값을 삭제\n",
    "#연산자\n",
    "lotto.remove(1) "
   ]
  },
  {
   "cell_type": "code",
   "execution_count": 40,
   "id": "e39f8164",
   "metadata": {},
   "outputs": [
    {
     "data": {
      "text/plain": [
       "[31]"
      ]
     },
     "execution_count": 40,
     "metadata": {},
     "output_type": "execute_result"
    }
   ],
   "source": [
    "lotto"
   ]
  },
  {
   "cell_type": "code",
   "execution_count": 41,
   "id": "63372da5",
   "metadata": {},
   "outputs": [],
   "source": [
    "#count(x): 값(x)와 일치하는 개수 반환\n",
    "#extend():리스트 확장 ex)학년별, 반별 점수를 모을 때"
   ]
  },
  {
   "cell_type": "code",
   "execution_count": 46,
   "id": "f78f7488",
   "metadata": {},
   "outputs": [
    {
     "data": {
      "text/plain": [
       "[2, 4, 5, 3, 1]"
      ]
     },
     "execution_count": 46,
     "metadata": {},
     "output_type": "execute_result"
    }
   ],
   "source": [
    "arr3=[1,3,5,4,2]\n",
    "arr3[::-1] #뒤집은 복사본이 반환됨\n",
    "#a.reverse() #원본이 뒤집어지면서 수정됨"
   ]
  },
  {
   "cell_type": "code",
   "execution_count": 48,
   "id": "04df0391",
   "metadata": {},
   "outputs": [
    {
     "data": {
      "text/plain": [
       "'python is too interesting'"
      ]
     },
     "execution_count": 48,
     "metadata": {},
     "output_type": "execute_result"
    }
   ],
   "source": [
    "arr4 = ['python', 'is', 'too', 'interesting']\n",
    "' '.join(arr4) #공백으로 arr4값을 연결하겠다"
   ]
  },
  {
   "cell_type": "code",
   "execution_count": 49,
   "id": "38386a32",
   "metadata": {},
   "outputs": [
    {
     "ename": "TypeError",
     "evalue": "sequence item 0: expected str instance, int found",
     "output_type": "error",
     "traceback": [
      "\u001b[1;31m---------------------------------------------------------------------------\u001b[0m",
      "\u001b[1;31mTypeError\u001b[0m                                 Traceback (most recent call last)",
      "Input \u001b[1;32mIn [49]\u001b[0m, in \u001b[0;36m<cell line: 2>\u001b[1;34m()\u001b[0m\n\u001b[0;32m      1\u001b[0m arr5 \u001b[38;5;241m=\u001b[39m [\u001b[38;5;241m1\u001b[39m,\u001b[38;5;241m2\u001b[39m,\u001b[38;5;241m3\u001b[39m]\n\u001b[1;32m----> 2\u001b[0m \u001b[38;5;124;43m\"\u001b[39;49m\u001b[38;5;124;43m\"\u001b[39;49m\u001b[38;5;241;43m.\u001b[39;49m\u001b[43mjoin\u001b[49m\u001b[43m(\u001b[49m\u001b[43marr5\u001b[49m\u001b[43m)\u001b[49m\n",
      "\u001b[1;31mTypeError\u001b[0m: sequence item 0: expected str instance, int found"
     ]
    }
   ],
   "source": [
    "arr5 = [1,2,3]\n",
    "\"\".join(arr5) #str이 와야하는데 int형이 와있기 때문에 오류 발생 > str로 변형시켜준다(반복문사용)"
   ]
  },
  {
   "cell_type": "code",
   "execution_count": 50,
   "id": "a0ccac7d",
   "metadata": {},
   "outputs": [
    {
     "data": {
      "text/plain": [
       "(1, 2)"
      ]
     },
     "execution_count": 50,
     "metadata": {},
     "output_type": "execute_result"
    }
   ],
   "source": [
    "#67.튜플 : 데이터변경이 불가능함\n",
    "# 소괄호사용\n",
    "1,2 \n",
    "#괄호없이 값을 적으면 소괄호 자동생성"
   ]
  },
  {
   "cell_type": "code",
   "execution_count": 51,
   "id": "1a7e0b3e",
   "metadata": {},
   "outputs": [
    {
     "data": {
      "text/plain": [
       "(1, 2, 3)"
      ]
     },
     "execution_count": 51,
     "metadata": {},
     "output_type": "execute_result"
    }
   ],
   "source": [
    "t1 = 1,2,3,\n",
    "t1"
   ]
  },
  {
   "cell_type": "code",
   "execution_count": 52,
   "id": "dc8fddfe",
   "metadata": {},
   "outputs": [
    {
     "ename": "TypeError",
     "evalue": "'tuple' object does not support item assignment",
     "output_type": "error",
     "traceback": [
      "\u001b[1;31m---------------------------------------------------------------------------\u001b[0m",
      "\u001b[1;31mTypeError\u001b[0m                                 Traceback (most recent call last)",
      "Input \u001b[1;32mIn [52]\u001b[0m, in \u001b[0;36m<cell line: 1>\u001b[1;34m()\u001b[0m\n\u001b[1;32m----> 1\u001b[0m t1[\u001b[38;5;241m1\u001b[39m]\u001b[38;5;241m=\u001b[39m\u001b[38;5;241m30\u001b[39m\n",
      "\u001b[1;31mTypeError\u001b[0m: 'tuple' object does not support item assignment"
     ]
    }
   ],
   "source": [
    "t1[1]=30 \n",
    "#튜플이기 때문에 추가, 삭제, 수정 불가능함 \n",
    "# 값전달용으로 많이 사용 \n",
    "#object : 할당받은 메모리 영역\n",
    "# 튜플 = 설명서, 클래스 = 설계도 "
   ]
  },
  {
   "cell_type": "code",
   "execution_count": 53,
   "id": "912e9ee7",
   "metadata": {},
   "outputs": [
    {
     "data": {
      "text/plain": [
       "['l', 'o', 'v', 'e']"
      ]
     },
     "execution_count": 53,
     "metadata": {},
     "output_type": "execute_result"
    }
   ],
   "source": [
    "# 문자열을 리스트로 만들면 글자 한자씩 모두 떨어진다\n",
    "list(\"love\")"
   ]
  },
  {
   "cell_type": "code",
   "execution_count": 62,
   "id": "6e3d6631",
   "metadata": {},
   "outputs": [
    {
     "data": {
      "text/plain": [
       "{'김', '박', '이', '최', '홍'}"
      ]
     },
     "execution_count": 62,
     "metadata": {},
     "output_type": "execute_result"
    }
   ],
   "source": [
    "참석자 = set()\n",
    "day1 = {'홍','김','이'}\n",
    "참석자.update(day1)\n",
    "day2 = {'박','홍','최'}\n",
    "참석자.update(day2)\n",
    "참석자\n",
    "#내부적으로 중복으로 배제한다.       "
   ]
  },
  {
   "cell_type": "code",
   "execution_count": 63,
   "id": "fbd517f6",
   "metadata": {},
   "outputs": [
    {
     "data": {
      "text/plain": [
       "{'김', '박', '이', '홍'}"
      ]
     },
     "execution_count": 63,
     "metadata": {},
     "output_type": "execute_result"
    }
   ],
   "source": [
    "참석자.remove('최')\n",
    "참석자"
   ]
  },
  {
   "cell_type": "code",
   "execution_count": 58,
   "id": "ad4ccafb",
   "metadata": {},
   "outputs": [
    {
     "data": {
      "text/plain": [
       "{'박'}"
      ]
     },
     "execution_count": 58,
     "metadata": {},
     "output_type": "execute_result"
    }
   ],
   "source": [
    "참석자 - day1"
   ]
  },
  {
   "cell_type": "code",
   "execution_count": 60,
   "id": "3c45aa15",
   "metadata": {},
   "outputs": [
    {
     "data": {
      "text/plain": [
       "{'홍'}"
      ]
     },
     "execution_count": 60,
     "metadata": {},
     "output_type": "execute_result"
    }
   ],
   "source": [
    "day1 & day2"
   ]
  },
  {
   "cell_type": "code",
   "execution_count": 65,
   "id": "db7f5339",
   "metadata": {},
   "outputs": [
    {
     "ename": "IndentationError",
     "evalue": "unexpected indent (3560778299.py, line 4)",
     "output_type": "error",
     "traceback": [
      "\u001b[1;36m  Input \u001b[1;32mIn [65]\u001b[1;36m\u001b[0m\n\u001b[1;33m    lotto.add(random.randint(1,45))\u001b[0m\n\u001b[1;37m    ^\u001b[0m\n\u001b[1;31mIndentationError\u001b[0m\u001b[1;31m:\u001b[0m unexpected indent\n"
     ]
    }
   ],
   "source": [
    "import random\n",
    "lotto = set() #빈 리스트\n",
    "\n",
    "    lotto.add(random.randint(1,45))\n",
    "    lotto.add(random.randint(1,45))\n",
    "    lotto.add(random.randint(1,45))\n",
    "    lotto.add(random.randint(1,45))\n",
    "    lotto.add(random.randint(1,45))\n",
    "    lotto.add(random.randint(1,45))\n",
    "    \n",
    "    lotto"
   ]
  },
  {
   "cell_type": "code",
   "execution_count": 70,
   "id": "0b115e52",
   "metadata": {},
   "outputs": [
    {
     "data": {
      "text/plain": [
       "[7, 6, 5, 4, 3, 2, 1]"
      ]
     },
     "execution_count": 70,
     "metadata": {},
     "output_type": "execute_result"
    }
   ],
   "source": [
    "a=[1,1,2,2,3,4,4,5,6,7,2]\n",
    "a = list(set(a))\n",
    "a.sort(reverse = True) #a.reverse()\n",
    "a"
   ]
  },
  {
   "cell_type": "code",
   "execution_count": 71,
   "id": "bdd2ffba",
   "metadata": {},
   "outputs": [],
   "source": [
    "#p78 딕셔너리 자료형\n",
    "names=[\"홍\", \"김\", \"이\"]\n",
    "scores= [70,80,90]\n",
    "score_dict = {\"홍\":70, \"김\":80, \"이\":90 }"
   ]
  },
  {
   "cell_type": "code",
   "execution_count": 73,
   "id": "168aa1bb",
   "metadata": {},
   "outputs": [
    {
     "data": {
      "text/plain": [
       "['홍', '김', '이']"
      ]
     },
     "execution_count": 73,
     "metadata": {},
     "output_type": "execute_result"
    }
   ],
   "source": [
    "list(score_dict.keys())"
   ]
  },
  {
   "cell_type": "code",
   "execution_count": 82,
   "id": "ed717632",
   "metadata": {},
   "outputs": [
    {
     "data": {
      "text/plain": [
       "80.0"
      ]
     },
     "execution_count": 82,
     "metadata": {},
     "output_type": "execute_result"
    }
   ],
   "source": [
    "v= list(score_dict.values())\n",
    "#평균=sum / \n",
    "sum(v), len(v)\n",
    "sum(v) / len(v) #평균"
   ]
  },
  {
   "cell_type": "code",
   "execution_count": 79,
   "id": "01cbe5be",
   "metadata": {
    "scrolled": true
   },
   "outputs": [
    {
     "ename": "AttributeError",
     "evalue": "'dict' object has no attribute 'item'",
     "output_type": "error",
     "traceback": [
      "\u001b[1;31m---------------------------------------------------------------------------\u001b[0m",
      "\u001b[1;31mAttributeError\u001b[0m                            Traceback (most recent call last)",
      "Input \u001b[1;32mIn [79]\u001b[0m, in \u001b[0;36m<cell line: 1>\u001b[1;34m()\u001b[0m\n\u001b[1;32m----> 1\u001b[0m \u001b[38;5;28mlist\u001b[39m(\u001b[43mscore_dict\u001b[49m\u001b[38;5;241;43m.\u001b[39;49m\u001b[43mitem\u001b[49m())\n",
      "\u001b[1;31mAttributeError\u001b[0m: 'dict' object has no attribute 'item'"
     ]
    }
   ],
   "source": [
    "list(score_dict.item())"
   ]
  },
  {
   "cell_type": "code",
   "execution_count": 83,
   "id": "71c8d42f",
   "metadata": {},
   "outputs": [
    {
     "data": {
      "text/plain": [
       "True"
      ]
     },
     "execution_count": 83,
     "metadata": {},
     "output_type": "execute_result"
    }
   ],
   "source": [
    "\"홍\" in list(score_dict.keys()) #홍이라는 글자가 스코어딕스 keys에 들어가 있는가"
   ]
  },
  {
   "cell_type": "code",
   "execution_count": 99,
   "id": "49ad6a2c",
   "metadata": {},
   "outputs": [],
   "source": [
    "#연습문제\n",
    "A = {'a':90, 'b':80, 'c':70}\n"
   ]
  },
  {
   "cell_type": "code",
   "execution_count": 100,
   "id": "ccd00517",
   "metadata": {},
   "outputs": [
    {
     "data": {
      "text/plain": [
       "80"
      ]
     },
     "execution_count": 100,
     "metadata": {},
     "output_type": "execute_result"
    }
   ],
   "source": [
    "A.get('b')"
   ]
  },
  {
   "cell_type": "code",
   "execution_count": 101,
   "id": "655dd3fb",
   "metadata": {},
   "outputs": [
    {
     "name": "stdout",
     "output_type": "stream",
     "text": [
      "{'a': 90, 'c': 70}\n"
     ]
    }
   ],
   "source": [
    "del A['b']\n",
    "print(A)"
   ]
  },
  {
   "cell_type": "code",
   "execution_count": 104,
   "id": "e81d3d26",
   "metadata": {},
   "outputs": [
    {
     "name": "stdout",
     "output_type": "stream",
     "text": [
      "성별입력(MALE, FEMALE)FEMALE\n",
      "여성\n",
      "여성\n"
     ]
    }
   ],
   "source": [
    "ans = input(\"성별입력(MALE, FEMALE)\")\n",
    "if ans == \"MALE\" :\n",
    "    print(\"남성\")\n",
    "    print(\"남성\")\n",
    "else:\n",
    "    print(\"여성\")    \n",
    "    print(\"여성\")\n",
    "\n",
    "    \n",
    "#블록내에서 무조건 들여쓰기 잘해야함\n",
    "# A    = 100\n",
    "# NAME = 100"
   ]
  },
  {
   "cell_type": "code",
   "execution_count": 112,
   "id": "2aeecf4e",
   "metadata": {},
   "outputs": [
    {
     "name": "stdout",
     "output_type": "stream",
     "text": [
      "키입력20\n",
      "몸무게입력30\n",
      "비만 수치는 110입니다.\n",
      "당신은 비만입니다.\n"
     ]
    }
   ],
   "source": [
    "ans = input(\"키입력\")\n",
    "ans2 = input(\"몸무게입력\")\n",
    "info = [int(ans),int(ans2)]\n",
    "fat = int(ans2) + 100 - int(ans)\n",
    "print(f'비만 수치는 {fat}입니다.')\n",
    "if fat > 0:\n",
    "    print('당신은 비만입니다.')"
   ]
  },
  {
   "cell_type": "code",
   "execution_count": 5,
   "id": "3a07b9bd",
   "metadata": {},
   "outputs": [],
   "source": [
    "#숫자맞추기 게임\n",
    "#컴 1~100 난수 생성\n",
    "#시도한 횟수가 10회를 넘으면 \n",
    "#메세지: 당신은 바보입니까?\n",
    "import random\n",
    "com = random.randint(1,100)\n",
    "try_count=0 #시도횟수는 0"
   ]
  },
  {
   "cell_type": "code",
   "execution_count": 6,
   "id": "faf5f3ca",
   "metadata": {},
   "outputs": [
    {
     "name": "stdout",
     "output_type": "stream",
     "text": [
      "1번째 시도\n",
      "높여주세요\n"
     ]
    }
   ],
   "source": [
    "user = 4\n",
    "try_count +=1 # try_count = try_count + 1\n",
    "\n",
    "correct = False #답 맞춤 여부\n",
    "print(f\"{try_count}번째 시도\")\n",
    "if com == user : \n",
    "    correct = True #정답\n",
    "    print(\"정답입니다\")\n",
    "elif com < user :\n",
    "    print(\"낮춰주세요\")\n",
    "else:\n",
    "    print(\"높여주세요\")\n",
    "\n",
    "if correct == False and try_count > 10 :    #'&'로 사용하면 안됨 > and 연산자 사용해야함\n",
    "        print(\"당신은 바보입니까?\")"
   ]
  },
  {
   "cell_type": "code",
   "execution_count": 3,
   "id": "11b25f07",
   "metadata": {},
   "outputs": [
    {
     "data": {
      "text/plain": [
       "'D'"
      ]
     },
     "execution_count": 3,
     "metadata": {},
     "output_type": "execute_result"
    }
   ],
   "source": [
    "# p92 삼항연산자\n",
    "#A:90이상 B:80이상, C:70이상\n",
    "\n",
    "score =40 \n",
    "grade = \"A\" if score >=90  else (\"B\" if score >=80  else \"C\" if score>=70 else \"D\")\n",
    "\n",
    "grade"
   ]
  },
  {
   "cell_type": "code",
   "execution_count": null,
   "id": "1ef94aa1",
   "metadata": {},
   "outputs": [],
   "source": [
    "#반복문 while문 \n",
    "#숫자맞추기 게임\n",
    "#컴 1~100 난수 생성\n",
    "#시도한 횟수가 10회를 넘으면 \n",
    "#메세지: 당신은 바보입니까?\n",
    "import random\n",
    "com = random.randint(1,100)\n",
    "try_count=0 #시도횟수는 0\n",
    "\n",
    "\n",
    "correct = False #답 맞춤 여부\n",
    "\n",
    "#반복조건: 숫자가 다른경우 \n",
    "user = 0\n",
    "\n",
    "\n",
    "while user != com :\n",
    "    try_count+=1\n",
    "    \n",
    "    user = input(\"1~100사이 숫자 입력\")\n",
    "    user = int(user)\n",
    "    print(f\"{try_count}번째 시도\")\n",
    "    if com == user : \n",
    "        correct = True #정답\n",
    "        print(\"정답입니다\")\n",
    "    elif com < user :\n",
    "        print(\"낮춰주세요\")\n",
    "    else:\n",
    "        print(\"높여주세요\")\n",
    "\n",
    "    \n",
    "if correct == False and try_count > 10 :    #'&'로 사용하면 안됨 > and 연산자 사용해야함\n",
    "        print(\"당신은 바보입니까?\")\n"
   ]
  },
  {
   "cell_type": "code",
   "execution_count": 8,
   "id": "ceb8fa1d",
   "metadata": {},
   "outputs": [
    {
     "name": "stdout",
     "output_type": "stream",
     "text": [
      "80.0\n"
     ]
    }
   ],
   "source": [
    "scores=[70,80,90]\n",
    "tot = 0\n",
    "for s in scores:\n",
    "        tot += s\n",
    "print(tot / len(scores))"
   ]
  },
  {
   "cell_type": "code",
   "execution_count": null,
   "id": "fdffab93",
   "metadata": {},
   "outputs": [
    {
     "name": "stdout",
     "output_type": "stream",
     "text": [
      "1번째 시도\n"
     ]
    }
   ],
   "source": [
    "#for문을 이용하여 숫자맞추기 게임 구현하기\n",
    "import random\n",
    "com = random.randint(1,100)\n",
    "try_count=0\n",
    "\n",
    "correct = False\n",
    "# 랜덤한 숫자와 내가 입력한(input)숫자와 비교하기 \n",
    "# 비교했을 때 같이 않다면 다시 같은 작업하기\n",
    "\n",
    "for i in [1,2,3,4,5,6,7,8,9,10] :\n",
    "    print(f\"{i}번째 시도\")\n",
    "    user = int(input(\"숫자입력 : \"))\n",
    "    \n",
    "    if com == user :\n",
    "        correct = True\n",
    "        break\n",
    "    elif user > com : \n",
    "        print(\"낮춰주세요\")\n",
    "    else :\n",
    "        print(\"높여주세요\")\n",
    "        \n",
    "        \n",
    "if correct : \n",
    "    print(\"추카추카\")\n",
    "else :\n",
    "    print(\"당신은 바보입니까\")\n",
    "    "
   ]
  },
  {
   "cell_type": "code",
   "execution_count": 1,
   "id": "faf7061a",
   "metadata": {},
   "outputs": [
    {
     "name": "stdout",
     "output_type": "stream",
     "text": [
      "red\n",
      "green\n",
      "blue\n"
     ]
    }
   ],
   "source": [
    "colors = ['red', 'green', 'blue']\n",
    "for c in colors:\n",
    "    print(c)"
   ]
  },
  {
   "cell_type": "code",
   "execution_count": 3,
   "id": "7d34501b",
   "metadata": {},
   "outputs": [
    {
     "data": {
      "text/plain": [
       "5050"
      ]
     },
     "execution_count": 3,
     "metadata": {},
     "output_type": "execute_result"
    }
   ],
   "source": [
    "sum(range(1,101))"
   ]
  },
  {
   "cell_type": "code",
   "execution_count": 1,
   "id": "dd497a8e",
   "metadata": {},
   "outputs": [
    {
     "name": "stdout",
     "output_type": "stream",
     "text": [
      "5050\n"
     ]
    }
   ],
   "source": [
    "m = 0\n",
    "for i in range(1,101) : \n",
    "     m += i\n",
    "print(m) \n",
    "\n",
    "\n"
   ]
  },
  {
   "cell_type": "code",
   "execution_count": 3,
   "id": "ada9e9b3",
   "metadata": {},
   "outputs": [
    {
     "data": {
      "text/plain": [
       "<function sum(iterable, /, start=0)>"
      ]
     },
     "execution_count": 3,
     "metadata": {},
     "output_type": "execute_result"
    }
   ],
   "source": [
    "# 내장함수를 변수로 사용했을 경우 : 'int' object is not callable\n",
    "sum"
   ]
  },
  {
   "cell_type": "code",
   "execution_count": 3,
   "id": "8a29585a",
   "metadata": {},
   "outputs": [
    {
     "name": "stdout",
     "output_type": "stream",
     "text": [
      "2*1=2\n",
      "2*2=4\n",
      "2*3=6\n",
      "2*4=8\n",
      "2*5=10\n",
      "2*6=12\n",
      "2*7=14\n",
      "2*8=16\n",
      "2*9=18\n",
      "3*1=3\n",
      "3*2=6\n",
      "3*3=9\n",
      "3*4=12\n",
      "3*5=15\n",
      "3*6=18\n",
      "3*7=21\n",
      "3*8=24\n",
      "3*9=27\n",
      "4*1=4\n",
      "4*2=8\n",
      "4*3=12\n",
      "4*4=16\n",
      "4*5=20\n",
      "4*6=24\n",
      "4*7=28\n",
      "4*8=32\n",
      "4*9=36\n",
      "5*1=5\n",
      "5*2=10\n",
      "5*3=15\n",
      "5*4=20\n",
      "5*5=25\n",
      "5*6=30\n",
      "5*7=35\n",
      "5*8=40\n",
      "5*9=45\n",
      "6*1=6\n",
      "6*2=12\n",
      "6*3=18\n",
      "6*4=24\n",
      "6*5=30\n",
      "6*6=36\n",
      "6*7=42\n",
      "6*8=48\n",
      "6*9=54\n",
      "7*1=7\n",
      "7*2=14\n",
      "7*3=21\n",
      "7*4=28\n",
      "7*5=35\n",
      "7*6=42\n",
      "7*7=49\n",
      "7*8=56\n",
      "7*9=63\n",
      "8*1=8\n",
      "8*2=16\n",
      "8*3=24\n",
      "8*4=32\n",
      "8*5=40\n",
      "8*6=48\n",
      "8*7=56\n",
      "8*8=64\n",
      "8*9=72\n",
      "9*1=9\n",
      "9*2=18\n",
      "9*3=27\n",
      "9*4=36\n",
      "9*5=45\n",
      "9*6=54\n",
      "9*7=63\n",
      "9*8=72\n",
      "9*9=81\n"
     ]
    }
   ],
   "source": [
    "# 3단 구구단 출력하기 \n",
    "# dan = 3\n",
    "for dan in range(2,10):\n",
    "    for i in range(1,10):\n",
    "        print(f\"{dan}*{i}={dan*i}\")"
   ]
  },
  {
   "cell_type": "code",
   "execution_count": 8,
   "id": "1f1439af",
   "metadata": {},
   "outputs": [
    {
     "name": "stdout",
     "output_type": "stream",
     "text": [
      "1\n",
      "2\n",
      "3\n",
      "4\n",
      "5\n",
      "6\n",
      "7\n",
      "8\n",
      "9\n",
      "10\n"
     ]
    }
   ],
   "source": [
    "#p98\n",
    "test2D = [[1,2,3],[4,5,6],[7,8,9,10]]\n",
    "for i in range(len(test2D)):\n",
    "    for j in range(len(test2D[i])):\n",
    "        print(test2D[i][j])"
   ]
  },
  {
   "cell_type": "code",
   "execution_count": 11,
   "id": "71671257",
   "metadata": {},
   "outputs": [
    {
     "name": "stdout",
     "output_type": "stream",
     "text": [
      "1\n",
      "2\n",
      "3\n",
      "4\n",
      "5\n",
      "6\n",
      "7\n",
      "8\n",
      "9\n",
      "10\n"
     ]
    }
   ],
   "source": [
    "test3D = [[1,2,3],[4,5,6],[7,8,9,10]]\n",
    "for i in test3D :\n",
    "    for j in i :\n",
    "        print(j)"
   ]
  },
  {
   "cell_type": "code",
   "execution_count": 11,
   "id": "d2a03c1c",
   "metadata": {},
   "outputs": [
    {
     "name": "stdout",
     "output_type": "stream",
     "text": [
      "9\n"
     ]
    }
   ],
   "source": [
    "for ans in range(10):\n",
    "    if i == 2:\n",
    "        continue\n",
    "    if i == 5:\n",
    "        break\n",
    "print(ans)"
   ]
  },
  {
   "cell_type": "code",
   "execution_count": 6,
   "id": "5cda2f8d",
   "metadata": {},
   "outputs": [
    {
     "name": "stdout",
     "output_type": "stream",
     "text": [
      "Object `?` not found.\n",
      "Object `?` not found.\n",
      "Object `?` not found.\n",
      "Object `?` not found.\n",
      "Object `?` not found.\n",
      "Object `?` not found.\n",
      "Object `?` not found.\n",
      "Object `?` not found.\n",
      "Object `?` not found.\n",
      "Object `?` not found.\n",
      "0\n"
     ]
    }
   ],
   "source": [
    "cnt = 0\n",
    "for i in range(10):\n",
    "    ???\n",
    "print(cnt) #20"
   ]
  },
  {
   "cell_type": "code",
   "execution_count": 1,
   "id": "04b6f44c",
   "metadata": {},
   "outputs": [],
   "source": [
    "for i in range(10):\n",
    "    pass"
   ]
  },
  {
   "cell_type": "code",
   "execution_count": 17,
   "id": "26b3e10b",
   "metadata": {},
   "outputs": [
    {
     "name": "stdout",
     "output_type": "stream",
     "text": [
      "[7.0, 8.0, 9.0]\n",
      "[True, False, False]\n"
     ]
    },
    {
     "data": {
      "text/plain": [
       "'70-80-90'"
      ]
     },
     "execution_count": 17,
     "metadata": {},
     "output_type": "execute_result"
    }
   ],
   "source": [
    "scores = [70,80,90]\n",
    "print([s/10 for s in scores]) \n",
    "# 10으로 나눈 리스트s를 다시 이용한다\n",
    "print([True if s<80 else False for s in scores])\n",
    "scores = [str(s) for s in scores] #문자열로 바꾸기 위해서 \n",
    "# 스코어에 있는 값들을 s로 저장하고 str형으로 변환하여 \n",
    "\"-\".join(scores)"
   ]
  },
  {
   "cell_type": "code",
   "execution_count": 18,
   "id": "5468b519",
   "metadata": {},
   "outputs": [
    {
     "name": "stdout",
     "output_type": "stream",
     "text": [
      "가위\n"
     ]
    }
   ],
   "source": [
    "#컴 1,2,3난수로 생성 -> 가위, 바위, 보 출력\n",
    "# 리스트사용\n",
    "import random\n",
    "gbb = [\"\", \"가위\", \"바위\", \"보\"]\n",
    "r = random.randint(1,3)\n",
    "print(gbb[r])"
   ]
  },
  {
   "cell_type": "code",
   "execution_count": 15,
   "id": "7542ef95",
   "metadata": {},
   "outputs": [
    {
     "name": "stdout",
     "output_type": "stream",
     "text": [
      "보\n"
     ]
    }
   ],
   "source": [
    "#dict\n",
    "import random\n",
    "gbb = {1:\"가위\", 2:\"바위\", 3:\"보\"}\n",
    "r = random.randint(1,3)\n",
    "print(gbb[r])"
   ]
  },
  {
   "cell_type": "code",
   "execution_count": 4,
   "id": "b992e149",
   "metadata": {},
   "outputs": [
    {
     "ename": "KeyError",
     "evalue": "3",
     "output_type": "error",
     "traceback": [
      "\u001b[1;31m---------------------------------------------------------------------------\u001b[0m",
      "\u001b[1;31mKeyError\u001b[0m                                  Traceback (most recent call last)",
      "Input \u001b[1;32mIn [4]\u001b[0m, in \u001b[0;36m<cell line: 5>\u001b[1;34m()\u001b[0m\n\u001b[0;32m      3\u001b[0m com\n\u001b[0;32m      4\u001b[0m game \u001b[38;5;241m=\u001b[39m {\u001b[38;5;124m'\u001b[39m\u001b[38;5;124m가위\u001b[39m\u001b[38;5;124m'\u001b[39m:\u001b[38;5;241m1\u001b[39m, \u001b[38;5;124m'\u001b[39m\u001b[38;5;124m바위\u001b[39m\u001b[38;5;124m'\u001b[39m:\u001b[38;5;241m2\u001b[39m, \u001b[38;5;124m'\u001b[39m\u001b[38;5;124m보\u001b[39m\u001b[38;5;124m'\u001b[39m:\u001b[38;5;241m3\u001b[39m}\n\u001b[1;32m----> 5\u001b[0m \u001b[38;5;28mprint\u001b[39m(\u001b[43mgame\u001b[49m\u001b[43m[\u001b[49m\u001b[43mcom\u001b[49m\u001b[43m]\u001b[49m)\n",
      "\u001b[1;31mKeyError\u001b[0m: 3"
     ]
    }
   ],
   "source": [
    "import random\n",
    "com = random.randint(1,3)\n",
    "com\n",
    "game = {'가위':1, '바위':2, '보':3}\n",
    "\n",
    "print(game[com])"
   ]
  },
  {
   "cell_type": "code",
   "execution_count": 21,
   "id": "9445d94f",
   "metadata": {},
   "outputs": [
    {
     "data": {
      "text/plain": [
       "['가위', '바위', '보']"
      ]
     },
     "execution_count": 21,
     "metadata": {},
     "output_type": "execute_result"
    }
   ],
   "source": [
    "list(A.keys())"
   ]
  },
  {
   "cell_type": "code",
   "execution_count": 22,
   "id": "81bfaa0b",
   "metadata": {},
   "outputs": [
    {
     "ename": "AttributeError",
     "evalue": "'dict' object has no attribute 'key'",
     "output_type": "error",
     "traceback": [
      "\u001b[1;31m---------------------------------------------------------------------------\u001b[0m",
      "\u001b[1;31mAttributeError\u001b[0m                            Traceback (most recent call last)",
      "Input \u001b[1;32mIn [22]\u001b[0m, in \u001b[0;36m<cell line: 1>\u001b[1;34m()\u001b[0m\n\u001b[1;32m----> 1\u001b[0m \u001b[38;5;28mlist\u001b[39m(\u001b[43mA\u001b[49m\u001b[38;5;241;43m.\u001b[39;49m\u001b[43mkey\u001b[49m(\u001b[38;5;241m1\u001b[39m))\n",
      "\u001b[1;31mAttributeError\u001b[0m: 'dict' object has no attribute 'key'"
     ]
    }
   ],
   "source": [
    "list(A.key(1))"
   ]
  },
  {
   "cell_type": "code",
   "execution_count": 25,
   "id": "9f11f6dd",
   "metadata": {},
   "outputs": [
    {
     "name": "stdout",
     "output_type": "stream",
     "text": [
      "Hello\n",
      "<function my_hello at 0x000001B6A3E46B80>\n"
     ]
    },
    {
     "data": {
      "text/plain": [
       "'Hello'"
      ]
     },
     "execution_count": 25,
     "metadata": {},
     "output_type": "execute_result"
    }
   ],
   "source": [
    "#함수 사용법 미리 정의하기 \n",
    "def my_hello():\n",
    "    return (\"Hello\")\n",
    "\n",
    "\n",
    "my_hello() #hello\n",
    "# my_hello(\"홍길동\") #hello 홍길동\n",
    "\n",
    "\n",
    "# 실행기가 함수를 실행하고 값을 받고 처리를 하지 않으면 화면에 출력한다\n",
    "# 만약 가공을 하고 싶다면 변수가 필요 \n",
    "ans = my_hello()\n",
    "print(ans)\n",
    "\n",
    "print( my_hello) #함수가 변수가 된다, 변수 위치가 출력된다 #괄호추가시, 코드를 실행한다\n",
    "aa = my_hello #함수 실행코드에 복사가 됨\n",
    "aa()"
   ]
  },
  {
   "cell_type": "code",
   "execution_count": null,
   "id": "30df2ad4",
   "metadata": {},
   "outputs": [],
   "source": []
  }
 ],
 "metadata": {
  "kernelspec": {
   "display_name": "Python 3 (ipykernel)",
   "language": "python",
   "name": "python3"
  },
  "language_info": {
   "codemirror_mode": {
    "name": "ipython",
    "version": 3
   },
   "file_extension": ".py",
   "mimetype": "text/x-python",
   "name": "python",
   "nbconvert_exporter": "python",
   "pygments_lexer": "ipython3",
   "version": "3.9.12"
  }
 },
 "nbformat": 4,
 "nbformat_minor": 5
}
